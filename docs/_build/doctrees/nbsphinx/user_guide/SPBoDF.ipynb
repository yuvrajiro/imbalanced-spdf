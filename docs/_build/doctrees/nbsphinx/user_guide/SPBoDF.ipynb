{
 "cells": [
  {
   "cell_type": "markdown",
   "id": "36bed83c591e9245",
   "metadata": {
    "collapsed": false
   },
   "source": [
    "## SPBoDF"
   ]
  },
  {
   "cell_type": "code",
   "execution_count": 1,
   "id": "e860d180734b68d0",
   "metadata": {
    "ExecuteTime": {
     "end_time": "2025-01-27T06:39:02.799239700Z",
     "start_time": "2025-01-27T06:39:01.987299900Z"
    },
    "collapsed": false
   },
   "outputs": [],
   "source": [
    "from imbalanced_spdf.ensemble import SPBaDF\n",
    "from sklearn.datasets import make_classification\n",
    "from sklearn.model_selection import train_test_split\n",
    "from sklearn.metrics import f1_score, roc_auc_score"
   ]
  },
  {
   "cell_type": "markdown",
   "id": "3da3058edf27f142",
   "metadata": {
    "collapsed": false
   },
   "source": [
    "Creating Synthetic Data"
   ]
  },
  {
   "cell_type": "code",
   "execution_count": 2,
   "id": "8f3ad853708eefbf",
   "metadata": {
    "ExecuteTime": {
     "end_time": "2025-01-27T06:39:03.298871200Z",
     "start_time": "2025-01-27T06:39:03.287331500Z"
    },
    "collapsed": false
   },
   "outputs": [],
   "source": [
    "X, y = make_classification(n_samples=100, n_features=20, n_informative=2, n_redundant=10, n_clusters_per_class=1, weights=[0.90], flip_y=0, random_state=1)"
   ]
  },
  {
   "cell_type": "code",
   "execution_count": 3,
   "id": "d081701b8f0b63dd",
   "metadata": {
    "ExecuteTime": {
     "end_time": "2025-01-27T06:39:05.521016600Z",
     "start_time": "2025-01-27T06:39:05.508056200Z"
    },
    "collapsed": false
   },
   "outputs": [
    {
     "name": "stdout",
     "output_type": "stream",
     "text": [
      "X shape: (100, 20), with 100 samples and 20 features\n"
     ]
    }
   ],
   "source": [
    "print(f\"X shape: {X.shape}, with {X.shape[0]} samples and {X.shape[1]} features\")"
   ]
  },
  {
   "cell_type": "markdown",
   "id": "28f1dbd630225e23",
   "metadata": {
    "collapsed": false
   },
   "source": [
    "### A look at the dataset"
   ]
  },
  {
   "cell_type": "code",
   "execution_count": 4,
   "id": "788fdfb08e7f16eb",
   "metadata": {
    "ExecuteTime": {
     "end_time": "2025-01-27T06:39:07.397146500Z",
     "start_time": "2025-01-27T06:39:07.390516500Z"
    },
    "collapsed": false
   },
   "outputs": [
    {
     "data": {
      "text/plain": [
       "array([[ 0.92957561,  0.39442803,  1.17437625, ...,  0.91549927,\n",
       "         0.67545381, -0.15050433],\n",
       "       [ 0.86404969, -1.55694156,  1.08060284, ..., -1.21333813,\n",
       "        -0.72853749, -2.69836174],\n",
       "       [ 0.5706656 ,  1.20845633,  0.69211449, ...,  0.35016716,\n",
       "        -0.10288722, -0.4791571 ],\n",
       "       ...,\n",
       "       [ 0.52234942, -0.79954749,  0.62567337, ..., -0.01771832,\n",
       "         0.1892932 , -1.1077125 ],\n",
       "       [ 1.03150227, -0.22676019,  1.30770407, ...,  0.86089124,\n",
       "         0.94980882,  1.63169151],\n",
       "       [ 0.657069  ,  0.14676526,  0.83916143, ...,  0.45794708,\n",
       "         0.11236849,  0.57296273]])"
      ]
     },
     "execution_count": 4,
     "metadata": {},
     "output_type": "execute_result"
    }
   ],
   "source": [
    "X"
   ]
  },
  {
   "cell_type": "code",
   "execution_count": 5,
   "id": "ccc35dae103308a0",
   "metadata": {
    "ExecuteTime": {
     "end_time": "2025-01-27T06:39:09.540316600Z",
     "start_time": "2025-01-27T06:39:09.533718600Z"
    },
    "collapsed": false
   },
   "outputs": [
    {
     "data": {
      "text/plain": [
       "array([0, 0, 0, 0, 0, 0, 0, 0, 0, 0, 0, 0, 0, 0, 0, 0, 0, 0, 0, 1, 0, 0,\n",
       "       0, 0, 0, 0, 0, 0, 0, 0, 0, 1, 1, 0, 1, 0, 0, 0, 0, 0, 0, 0, 0, 1,\n",
       "       0, 0, 0, 0, 0, 0, 0, 0, 0, 0, 0, 1, 0, 0, 0, 0, 0, 0, 0, 0, 0, 0,\n",
       "       0, 0, 0, 0, 0, 0, 0, 1, 0, 0, 0, 0, 1, 0, 0, 0, 0, 0, 0, 0, 0, 0,\n",
       "       0, 0, 0, 0, 0, 0, 1, 0, 0, 0, 0, 0])"
      ]
     },
     "execution_count": 5,
     "metadata": {},
     "output_type": "execute_result"
    }
   ],
   "source": [
    "y"
   ]
  },
  {
   "cell_type": "code",
   "execution_count": 6,
   "id": "58c79ffa1a849767",
   "metadata": {
    "ExecuteTime": {
     "end_time": "2025-01-27T06:39:10.562963400Z",
     "start_time": "2025-01-27T06:39:10.540681500Z"
    },
    "collapsed": false
   },
   "outputs": [],
   "source": [
    "X_train, X_test, y_train, y_test = train_test_split(X, y, test_size=0.3, random_state=1)"
   ]
  },
  {
   "cell_type": "markdown",
   "id": "d970be4c7f5be4b0",
   "metadata": {
    "collapsed": false
   },
   "source": [
    "### Fitting and Predicting using SPBoDF Model"
   ]
  },
  {
   "cell_type": "code",
   "execution_count": 7,
   "id": "8802ece2e3b1418d",
   "metadata": {
    "ExecuteTime": {
     "end_time": "2025-01-27T06:39:12.324935300Z",
     "start_time": "2025-01-27T06:39:12.317243500Z"
    },
    "collapsed": false
   },
   "outputs": [],
   "source": [
    "spbadf = SPBaDF(weight=10, n_trees=10)"
   ]
  },
  {
   "cell_type": "code",
   "execution_count": 8,
   "id": "d165f9d1b4fbca",
   "metadata": {
    "ExecuteTime": {
     "end_time": "2025-01-27T06:39:13.946461Z",
     "start_time": "2025-01-27T06:39:13.307135700Z"
    },
    "collapsed": false
   },
   "outputs": [
    {
     "data": {
      "text/html": [
       "<style>#sk-container-id-1 {color: black;}#sk-container-id-1 pre{padding: 0;}#sk-container-id-1 div.sk-toggleable {background-color: white;}#sk-container-id-1 label.sk-toggleable__label {cursor: pointer;display: block;width: 100%;margin-bottom: 0;padding: 0.3em;box-sizing: border-box;text-align: center;}#sk-container-id-1 label.sk-toggleable__label-arrow:before {content: \"▸\";float: left;margin-right: 0.25em;color: #696969;}#sk-container-id-1 label.sk-toggleable__label-arrow:hover:before {color: black;}#sk-container-id-1 div.sk-estimator:hover label.sk-toggleable__label-arrow:before {color: black;}#sk-container-id-1 div.sk-toggleable__content {max-height: 0;max-width: 0;overflow: hidden;text-align: left;background-color: #f0f8ff;}#sk-container-id-1 div.sk-toggleable__content pre {margin: 0.2em;color: black;border-radius: 0.25em;background-color: #f0f8ff;}#sk-container-id-1 input.sk-toggleable__control:checked~div.sk-toggleable__content {max-height: 200px;max-width: 100%;overflow: auto;}#sk-container-id-1 input.sk-toggleable__control:checked~label.sk-toggleable__label-arrow:before {content: \"▾\";}#sk-container-id-1 div.sk-estimator input.sk-toggleable__control:checked~label.sk-toggleable__label {background-color: #d4ebff;}#sk-container-id-1 div.sk-label input.sk-toggleable__control:checked~label.sk-toggleable__label {background-color: #d4ebff;}#sk-container-id-1 input.sk-hidden--visually {border: 0;clip: rect(1px 1px 1px 1px);clip: rect(1px, 1px, 1px, 1px);height: 1px;margin: -1px;overflow: hidden;padding: 0;position: absolute;width: 1px;}#sk-container-id-1 div.sk-estimator {font-family: monospace;background-color: #f0f8ff;border: 1px dotted black;border-radius: 0.25em;box-sizing: border-box;margin-bottom: 0.5em;}#sk-container-id-1 div.sk-estimator:hover {background-color: #d4ebff;}#sk-container-id-1 div.sk-parallel-item::after {content: \"\";width: 100%;border-bottom: 1px solid gray;flex-grow: 1;}#sk-container-id-1 div.sk-label:hover label.sk-toggleable__label {background-color: #d4ebff;}#sk-container-id-1 div.sk-serial::before {content: \"\";position: absolute;border-left: 1px solid gray;box-sizing: border-box;top: 0;bottom: 0;left: 50%;z-index: 0;}#sk-container-id-1 div.sk-serial {display: flex;flex-direction: column;align-items: center;background-color: white;padding-right: 0.2em;padding-left: 0.2em;position: relative;}#sk-container-id-1 div.sk-item {position: relative;z-index: 1;}#sk-container-id-1 div.sk-parallel {display: flex;align-items: stretch;justify-content: center;background-color: white;position: relative;}#sk-container-id-1 div.sk-item::before, #sk-container-id-1 div.sk-parallel-item::before {content: \"\";position: absolute;border-left: 1px solid gray;box-sizing: border-box;top: 0;bottom: 0;left: 50%;z-index: -1;}#sk-container-id-1 div.sk-parallel-item {display: flex;flex-direction: column;z-index: 1;position: relative;background-color: white;}#sk-container-id-1 div.sk-parallel-item:first-child::after {align-self: flex-end;width: 50%;}#sk-container-id-1 div.sk-parallel-item:last-child::after {align-self: flex-start;width: 50%;}#sk-container-id-1 div.sk-parallel-item:only-child::after {width: 0;}#sk-container-id-1 div.sk-dashed-wrapped {border: 1px dashed gray;margin: 0 0.4em 0.5em 0.4em;box-sizing: border-box;padding-bottom: 0.4em;background-color: white;}#sk-container-id-1 div.sk-label label {font-family: monospace;font-weight: bold;display: inline-block;line-height: 1.2em;}#sk-container-id-1 div.sk-label-container {text-align: center;}#sk-container-id-1 div.sk-container {/* jupyter's `normalize.less` sets `[hidden] { display: none; }` but bootstrap.min.css set `[hidden] { display: none !important; }` so we also need the `!important` here to be able to override the default hidden behavior on the sphinx rendered scikit-learn.org. See: https://github.com/scikit-learn/scikit-learn/issues/21755 */display: inline-block !important;position: relative;}#sk-container-id-1 div.sk-text-repr-fallback {display: none;}</style><div id=\"sk-container-id-1\" class=\"sk-top-container\"><div class=\"sk-text-repr-fallback\"><pre>SPBaDF(n_trees=10, weight=10)</pre><b>In a Jupyter environment, please rerun this cell to show the HTML representation or trust the notebook. <br />On GitHub, the HTML representation is unable to render, please try loading this page with nbviewer.org.</b></div><div class=\"sk-container\" hidden><div class=\"sk-item\"><div class=\"sk-estimator sk-toggleable\"><input class=\"sk-toggleable__control sk-hidden--visually\" id=\"sk-estimator-id-1\" type=\"checkbox\" checked><label for=\"sk-estimator-id-1\" class=\"sk-toggleable__label sk-toggleable__label-arrow\">SPBaDF</label><div class=\"sk-toggleable__content\"><pre>SPBaDF(n_trees=10, weight=10)</pre></div></div></div></div></div>"
      ],
      "text/plain": [
       "SPBaDF(n_trees=10, weight=10)"
      ]
     },
     "execution_count": 8,
     "metadata": {},
     "output_type": "execute_result"
    }
   ],
   "source": [
    "spbadf.fit(X_train, y_train)"
   ]
  },
  {
   "cell_type": "code",
   "execution_count": 9,
   "id": "3c186c91de532e01",
   "metadata": {
    "ExecuteTime": {
     "end_time": "2025-01-27T06:39:15.104457200Z",
     "start_time": "2025-01-27T06:39:15.092792400Z"
    },
    "collapsed": false
   },
   "outputs": [],
   "source": [
    "pred = spbadf.predict(X_test)"
   ]
  },
  {
   "cell_type": "code",
   "execution_count": 10,
   "id": "48c791257518a162",
   "metadata": {
    "ExecuteTime": {
     "end_time": "2025-01-27T06:39:16.019880400Z",
     "start_time": "2025-01-27T06:39:16.013476400Z"
    },
    "collapsed": false
   },
   "outputs": [
    {
     "data": {
      "text/plain": [
       "1.0"
      ]
     },
     "execution_count": 10,
     "metadata": {},
     "output_type": "execute_result"
    }
   ],
   "source": [
    "f1_score(y_test, pred)"
   ]
  },
  {
   "cell_type": "code",
   "execution_count": null,
   "id": "92000ffa9627e759",
   "metadata": {
    "collapsed": false
   },
   "outputs": [],
   "source": []
  }
 ],
 "metadata": {
  "kernelspec": {
   "display_name": "Python 3",
   "language": "python",
   "name": "python3"
  },
  "language_info": {
   "codemirror_mode": {
    "name": "ipython",
    "version": 2
   },
   "file_extension": ".py",
   "mimetype": "text/x-python",
   "name": "python",
   "nbconvert_exporter": "python",
   "pygments_lexer": "ipython2",
   "version": "2.7.6"
  }
 },
 "nbformat": 4,
 "nbformat_minor": 5
}

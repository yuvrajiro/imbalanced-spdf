{
 "cells": [
  {
   "cell_type": "markdown",
   "id": "917badc1802926a9",
   "metadata": {
    "collapsed": false
   },
   "source": [
    "# SPBaDF\n",
    "\n",
    "\n",
    "## Importing the necessary libraries"
   ]
  },
  {
   "cell_type": "code",
   "execution_count": 2,
   "id": "initial_id",
   "metadata": {
    "ExecuteTime": {
     "end_time": "2025-01-27T06:37:53.106047100Z",
     "start_time": "2025-01-27T06:37:44.769425900Z"
    },
    "collapsed": true
   },
   "outputs": [],
   "source": [
    "from imbalanced_spbdf.ensemble import SPBaDF\n",
    "from sklearn.datasets import make_classification\n",
    "from sklearn.model_selection import train_test_split\n",
    "from sklearn.metrics import f1_score, roc_auc_score"
   ]
  },
  {
   "cell_type": "markdown",
   "id": "b077417ed177a29",
   "metadata": {
    "collapsed": false
   },
   "source": [
    "## Creating a synthetic dataset"
   ]
  },
  {
   "cell_type": "code",
   "execution_count": 3,
   "id": "8a0bba294441080f",
   "metadata": {
    "ExecuteTime": {
     "end_time": "2025-01-27T06:37:54.596767Z",
     "start_time": "2025-01-27T06:37:54.585390700Z"
    },
    "collapsed": false
   },
   "outputs": [],
   "source": [
    "X, y = make_classification(n_samples=100, n_features=20, n_informative=2, n_redundant=10, n_clusters_per_class=1, weights=[0.90], flip_y=0, random_state=1)"
   ]
  },
  {
   "cell_type": "markdown",
   "id": "e00e7f09a5be4ee",
   "metadata": {
    "collapsed": false
   },
   "source": [
    "## Take a look at the dataset"
   ]
  },
  {
   "cell_type": "code",
   "execution_count": 4,
   "id": "afe1dc9de3cc92eb",
   "metadata": {
    "ExecuteTime": {
     "end_time": "2025-01-27T06:37:56.200307600Z",
     "start_time": "2025-01-27T06:37:56.194594Z"
    },
    "collapsed": false
   },
   "outputs": [
    {
     "name": "stdout",
     "output_type": "stream",
     "text": [
      "X shape: (100, 20), with 100 samples and 20 features\n"
     ]
    }
   ],
   "source": [
    "print(f\"X shape: {X.shape}, with {X.shape[0]} samples and {X.shape[1]} features\")"
   ]
  },
  {
   "cell_type": "code",
   "execution_count": 5,
   "id": "20571a1ed44be484",
   "metadata": {
    "ExecuteTime": {
     "end_time": "2025-01-27T06:37:56.763502400Z",
     "start_time": "2025-01-27T06:37:56.751681200Z"
    },
    "collapsed": false
   },
   "outputs": [
    {
     "name": "stdout",
     "output_type": "stream",
     "text": [
      "y shape: (100,), with 100 samples, the majority class has 91 samples and the minority class has 9 samples\n"
     ]
    }
   ],
   "source": [
    "print(f\"y shape: {y.shape}, with {y.shape[0]} samples, the majority class has {len(y[y==0])} samples and the minority class has {len(y[y==1])} samples\")"
   ]
  },
  {
   "cell_type": "markdown",
   "id": "ca127082d3e2048c",
   "metadata": {
    "collapsed": false
   },
   "source": [
    "## Splitting the dataset into training and testing"
   ]
  },
  {
   "cell_type": "code",
   "execution_count": 6,
   "id": "da3f40b43a010f64",
   "metadata": {
    "ExecuteTime": {
     "end_time": "2025-01-27T06:37:58.034283700Z",
     "start_time": "2025-01-27T06:37:58.020771500Z"
    },
    "collapsed": false
   },
   "outputs": [],
   "source": [
    "X_train, X_test, y_train, y_test = train_test_split(X, y, test_size=0.3, random_state=1)"
   ]
  },
  {
   "cell_type": "markdown",
   "id": "4e46a4916ab318b5",
   "metadata": {
    "collapsed": false
   },
   "source": [
    "## Fit a SPBaDF model"
   ]
  },
  {
   "cell_type": "code",
   "execution_count": 7,
   "id": "8299a1e0be5ff192",
   "metadata": {
    "ExecuteTime": {
     "end_time": "2025-01-27T06:37:59.011666300Z",
     "start_time": "2025-01-27T06:37:59.001698800Z"
    },
    "collapsed": false
   },
   "outputs": [],
   "source": [
    "spbadf = SPBaDF(weight=10, n_trees=100)"
   ]
  },
  {
   "cell_type": "code",
   "execution_count": 8,
   "id": "58e9d10d39c38c4f",
   "metadata": {
    "ExecuteTime": {
     "end_time": "2025-01-27T06:38:05.538713200Z",
     "start_time": "2025-01-27T06:37:59.870062700Z"
    },
    "collapsed": false
   },
   "outputs": [
    {
     "data": {
      "text/html": [
       "<style>#sk-container-id-1 {color: black;}#sk-container-id-1 pre{padding: 0;}#sk-container-id-1 div.sk-toggleable {background-color: white;}#sk-container-id-1 label.sk-toggleable__label {cursor: pointer;display: block;width: 100%;margin-bottom: 0;padding: 0.3em;box-sizing: border-box;text-align: center;}#sk-container-id-1 label.sk-toggleable__label-arrow:before {content: \"▸\";float: left;margin-right: 0.25em;color: #696969;}#sk-container-id-1 label.sk-toggleable__label-arrow:hover:before {color: black;}#sk-container-id-1 div.sk-estimator:hover label.sk-toggleable__label-arrow:before {color: black;}#sk-container-id-1 div.sk-toggleable__content {max-height: 0;max-width: 0;overflow: hidden;text-align: left;background-color: #f0f8ff;}#sk-container-id-1 div.sk-toggleable__content pre {margin: 0.2em;color: black;border-radius: 0.25em;background-color: #f0f8ff;}#sk-container-id-1 input.sk-toggleable__control:checked~div.sk-toggleable__content {max-height: 200px;max-width: 100%;overflow: auto;}#sk-container-id-1 input.sk-toggleable__control:checked~label.sk-toggleable__label-arrow:before {content: \"▾\";}#sk-container-id-1 div.sk-estimator input.sk-toggleable__control:checked~label.sk-toggleable__label {background-color: #d4ebff;}#sk-container-id-1 div.sk-label input.sk-toggleable__control:checked~label.sk-toggleable__label {background-color: #d4ebff;}#sk-container-id-1 input.sk-hidden--visually {border: 0;clip: rect(1px 1px 1px 1px);clip: rect(1px, 1px, 1px, 1px);height: 1px;margin: -1px;overflow: hidden;padding: 0;position: absolute;width: 1px;}#sk-container-id-1 div.sk-estimator {font-family: monospace;background-color: #f0f8ff;border: 1px dotted black;border-radius: 0.25em;box-sizing: border-box;margin-bottom: 0.5em;}#sk-container-id-1 div.sk-estimator:hover {background-color: #d4ebff;}#sk-container-id-1 div.sk-parallel-item::after {content: \"\";width: 100%;border-bottom: 1px solid gray;flex-grow: 1;}#sk-container-id-1 div.sk-label:hover label.sk-toggleable__label {background-color: #d4ebff;}#sk-container-id-1 div.sk-serial::before {content: \"\";position: absolute;border-left: 1px solid gray;box-sizing: border-box;top: 0;bottom: 0;left: 50%;z-index: 0;}#sk-container-id-1 div.sk-serial {display: flex;flex-direction: column;align-items: center;background-color: white;padding-right: 0.2em;padding-left: 0.2em;position: relative;}#sk-container-id-1 div.sk-item {position: relative;z-index: 1;}#sk-container-id-1 div.sk-parallel {display: flex;align-items: stretch;justify-content: center;background-color: white;position: relative;}#sk-container-id-1 div.sk-item::before, #sk-container-id-1 div.sk-parallel-item::before {content: \"\";position: absolute;border-left: 1px solid gray;box-sizing: border-box;top: 0;bottom: 0;left: 50%;z-index: -1;}#sk-container-id-1 div.sk-parallel-item {display: flex;flex-direction: column;z-index: 1;position: relative;background-color: white;}#sk-container-id-1 div.sk-parallel-item:first-child::after {align-self: flex-end;width: 50%;}#sk-container-id-1 div.sk-parallel-item:last-child::after {align-self: flex-start;width: 50%;}#sk-container-id-1 div.sk-parallel-item:only-child::after {width: 0;}#sk-container-id-1 div.sk-dashed-wrapped {border: 1px dashed gray;margin: 0 0.4em 0.5em 0.4em;box-sizing: border-box;padding-bottom: 0.4em;background-color: white;}#sk-container-id-1 div.sk-label label {font-family: monospace;font-weight: bold;display: inline-block;line-height: 1.2em;}#sk-container-id-1 div.sk-label-container {text-align: center;}#sk-container-id-1 div.sk-container {/* jupyter's `normalize.less` sets `[hidden] { display: none; }` but bootstrap.min.css set `[hidden] { display: none !important; }` so we also need the `!important` here to be able to override the default hidden behavior on the sphinx rendered scikit-learn.org. See: https://github.com/scikit-learn/scikit-learn/issues/21755 */display: inline-block !important;position: relative;}#sk-container-id-1 div.sk-text-repr-fallback {display: none;}</style><div id=\"sk-container-id-1\" class=\"sk-top-container\"><div class=\"sk-text-repr-fallback\"><pre>SPBaDF(n_trees=100, weight=10)</pre><b>In a Jupyter environment, please rerun this cell to show the HTML representation or trust the notebook. <br />On GitHub, the HTML representation is unable to render, please try loading this page with nbviewer.org.</b></div><div class=\"sk-container\" hidden><div class=\"sk-item\"><div class=\"sk-estimator sk-toggleable\"><input class=\"sk-toggleable__control sk-hidden--visually\" id=\"sk-estimator-id-1\" type=\"checkbox\" checked><label for=\"sk-estimator-id-1\" class=\"sk-toggleable__label sk-toggleable__label-arrow\">SPBaDF</label><div class=\"sk-toggleable__content\"><pre>SPBaDF(n_trees=100, weight=10)</pre></div></div></div></div></div>"
      ],
      "text/plain": [
       "SPBaDF(n_trees=100, weight=10)"
      ]
     },
     "execution_count": 8,
     "metadata": {},
     "output_type": "execute_result"
    }
   ],
   "source": [
    "spbadf.fit(X_train, y_train)"
   ]
  },
  {
   "cell_type": "code",
   "execution_count": 9,
   "id": "19db59dca3ace345",
   "metadata": {
    "ExecuteTime": {
     "end_time": "2025-01-27T06:38:05.551910400Z",
     "start_time": "2025-01-27T06:38:05.534547100Z"
    },
    "collapsed": false
   },
   "outputs": [],
   "source": [
    "pred = spbadf.predict(X_test)"
   ]
  },
  {
   "cell_type": "code",
   "execution_count": 10,
   "id": "63f8794f7f2512b0",
   "metadata": {
    "ExecuteTime": {
     "end_time": "2025-01-27T06:38:07.166568100Z",
     "start_time": "2025-01-27T06:38:07.154097700Z"
    },
    "collapsed": false
   },
   "outputs": [
    {
     "data": {
      "text/plain": [
       "1.0"
      ]
     },
     "execution_count": 10,
     "metadata": {},
     "output_type": "execute_result"
    }
   ],
   "source": [
    "f1_score(y_test, pred)"
   ]
  },
  {
   "cell_type": "markdown",
   "id": "ac3d28038a92195d",
   "metadata": {
    "collapsed": false
   },
   "source": [
    "## Fit a catboost model"
   ]
  },
  {
   "cell_type": "code",
   "execution_count": 11,
   "id": "f05db5bb547e84eb",
   "metadata": {
    "ExecuteTime": {
     "end_time": "2025-01-27T06:38:10.207693100Z",
     "start_time": "2025-01-27T06:38:08.787012200Z"
    },
    "collapsed": false
   },
   "outputs": [],
   "source": [
    "from catboost import CatBoostClassifier"
   ]
  },
  {
   "cell_type": "code",
   "execution_count": 12,
   "id": "2b5ec9f12fe03458",
   "metadata": {
    "ExecuteTime": {
     "end_time": "2025-01-27T06:38:10.208699300Z",
     "start_time": "2025-01-27T06:38:10.199152700Z"
    },
    "collapsed": false
   },
   "outputs": [],
   "source": [
    "cat = CatBoostClassifier()"
   ]
  },
  {
   "cell_type": "code",
   "execution_count": 13,
   "id": "6e3fb49f7d8a2f8d",
   "metadata": {
    "ExecuteTime": {
     "end_time": "2025-01-27T06:38:11.605773600Z",
     "start_time": "2025-01-27T06:38:10.202448200Z"
    },
    "collapsed": false
   },
   "outputs": [
    {
     "data": {
      "text/plain": [
       "<catboost.core.CatBoostClassifier at 0x1c0799a0750>"
      ]
     },
     "execution_count": 13,
     "metadata": {},
     "output_type": "execute_result"
    }
   ],
   "source": [
    "cat.fit(X_train, y_train, verbose=False)"
   ]
  },
  {
   "cell_type": "code",
   "execution_count": 14,
   "id": "882331b104173bd6",
   "metadata": {
    "ExecuteTime": {
     "end_time": "2025-01-27T06:38:11.606819200Z",
     "start_time": "2025-01-27T06:38:11.599741500Z"
    },
    "collapsed": false
   },
   "outputs": [],
   "source": [
    "pred_cat = cat.predict(X_test)"
   ]
  },
  {
   "cell_type": "code",
   "execution_count": 15,
   "id": "3dc5d9d654e6a8fd",
   "metadata": {
    "ExecuteTime": {
     "end_time": "2025-01-27T06:38:12.343170400Z",
     "start_time": "2025-01-27T06:38:12.323314500Z"
    },
    "collapsed": false
   },
   "outputs": [
    {
     "data": {
      "text/plain": [
       "0.9090909090909091"
      ]
     },
     "execution_count": 15,
     "metadata": {},
     "output_type": "execute_result"
    }
   ],
   "source": [
    "f1_score(y_test, pred_cat)"
   ]
  },
  {
   "cell_type": "code",
   "execution_count": null,
   "id": "ae70e5ce03de2f47",
   "metadata": {
    "collapsed": false
   },
   "outputs": [],
   "source": []
  }
 ],
 "metadata": {
  "kernelspec": {
   "display_name": "Python 3",
   "language": "python",
   "name": "python3"
  },
  "language_info": {
   "codemirror_mode": {
    "name": "ipython",
    "version": 2
   },
   "file_extension": ".py",
   "mimetype": "text/x-python",
   "name": "python",
   "nbconvert_exporter": "python",
   "pygments_lexer": "ipython2",
   "version": "2.7.6"
  }
 },
 "nbformat": 4,
 "nbformat_minor": 5
}
